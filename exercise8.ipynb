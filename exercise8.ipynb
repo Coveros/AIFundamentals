{
 "cells": [
  {
   "cell_type": "markdown",
   "id": "mexican-contents",
   "metadata": {},
   "source": [
    "<h1>Fundamentals of AI</h1>\n",
    "<h2>Exercise #8 - Use CO-STAR to Create Good Content</h2>"
   ]
  },
  {
   "cell_type": "raw",
   "id": "b6a8f5d5-d259-4119-b830-08e40fc50264",
   "metadata": {},
   "source": [
    "Social Media Marketing:\n",
    "A boutique bakery is launching a new line of vegan chocolate pastries. Work with a chatbot to craft a strong social media X post\n",
    "\n",
    "Create a CO-STAR prompt for this social media post"
   ]
  },
  {
   "cell_type": "raw",
   "id": "71fdb730-9cea-49a5-958a-9607f7da9494",
   "metadata": {},
   "source": [
    "Creative Writing:\n",
    "A class you are in is learning about different writing styles. Create a short classic fairy tale\n",
    "\n",
    "Create a CO-STAR prompt for this fairy tale"
   ]
  },
  {
   "cell_type": "raw",
   "id": "391590e1-5dc9-4538-bad9-6dc243ea726a",
   "metadata": {},
   "source": [
    "Customer Service Chatbot:\n",
    "A bank is developing a chatbot to answer basic questions. Select a common question and evaluate several different potential answers to select the best one\n",
    "\n",
    "Create a CO-STAR prompt for this chatbot"
   ]
  },
  {
   "cell_type": "raw",
   "id": "dcf12b8e-60f6-4d8e-bf1f-460870e784b3",
   "metadata": {},
   "source": [
    "Email Marketing:\n",
    "An online clothing store is running a sale on winter jackets. Create an email campaign that will send out one email each week for a month.\n",
    "\n",
    "Create a CO-STAR prompt for this email campaign"
   ]
  },
  {
   "cell_type": "raw",
   "id": "fcbeb309-dcc5-4b21-ae09-59b21f1d2d93",
   "metadata": {},
   "source": [
    "Technical Writing:\n",
    "A word processing software company needs to update its user manual to describe a new feature - Translate Text to German. Create a well-structured set of instructions on how to use this feature. Assume there is a Translate Button that toggles between English and German.\n",
    "\n",
    "Create a CO-STAR prompt for this instruction"
   ]
  }
 ],
 "metadata": {
  "kernelspec": {
   "display_name": "training-env",
   "language": "python",
   "name": "training-env"
  },
  "language_info": {
   "codemirror_mode": {
    "name": "ipython",
    "version": 3
   },
   "file_extension": ".py",
   "mimetype": "text/x-python",
   "name": "python",
   "nbconvert_exporter": "python",
   "pygments_lexer": "ipython3",
   "version": "3.12.3"
  }
 },
 "nbformat": 4,
 "nbformat_minor": 5
}
