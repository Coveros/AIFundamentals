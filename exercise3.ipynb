{
 "cells": [
  {
   "cell_type": "markdown",
   "id": "4c1b6a11-edc5-477b-82d3-a685aad42672",
   "metadata": {
    "editable": true,
    "slideshow": {
     "slide_type": ""
    },
    "tags": []
   },
   "source": [
    "### <h1>Fundamentals of AI</h1>\n",
    "<h2>Exercise #3 - Assessing Model Results</h2>"
   ]
  },
  {
   "cell_type": "raw",
   "id": "0c73bbd8",
   "metadata": {
    "vscode": {
     "languageId": "raw"
    }
   },
   "source": [
    "Scenario Introduction\n",
    "\n",
    "The Goal: Develop a highly reliable object detection model for a self-driving car. The model's job is to scan the \n",
    "road ahead and draw an accurate bounding box around any stop sign it sees, correctly classifying it as \"stop_sign.\"\n",
    "\n",
    "The Model: The team is using a modern object detection model (like YOLO or SSD).\n",
    "\n",
    "The Process: The model's performance is measured by a \"Total Loss\" function. For object detection, this loss is a \n",
    "combination of two things:\n",
    "    - Classification Loss: Did the model correctly identify the object in the box as a \"stop_sign\"?\n",
    "    - Localization Loss: How accurately did the model draw the bounding box around the real stop sign? \n",
    "      (A perfect box gets low loss; an offset or poorly sized box gets high loss).\n",
    "\n",
    "A lower loss value means a better-performing model."
   ]
  },
  {
   "cell_type": "raw",
   "id": "98948a0e-7b4d-4d98-b650-ebabbd0a5bd5",
   "metadata": {
    "vscode": {
     "languageId": "raw"
    }
   },
   "source": [
    "Iteration 1:\n",
    "\n",
    "The engineering team starts with a very simple YOLO object detection model with a small number of layers. \n",
    "They hope to create a quick baseline. After training it on their dataset of 10,000 road images, they plot the \n",
    "loss curve shown below:"
   ]
  },
  {
   "cell_type": "markdown",
   "id": "1303f87a-510d-46d0-a287-7279a1b3565b",
   "metadata": {},
   "source": [
    "![alt text](underfitting.png \"Title\")"
   ]
  },
  {
   "cell_type": "raw",
   "id": "0393d433-d5f1-4226-ba5e-b5b3f3816b07",
   "metadata": {
    "vscode": {
     "languageId": "raw"
    }
   },
   "source": [
    "How accurate is the model trained above? \n",
    "\n",
    "Is it overfit, underfit or just right?\n",
    "\n",
    "As an AI engineer on the team, what is the most logical next step to improve its performance?\n",
    "\n",
    "    a) Add regularization to the model.\n",
    "    b) Increase the model's complexity (e.g., use a deeper network backbone).\n",
    "    c) Train the model on fewer images.\n",
    "    d) Stop training earlier.\n",
    "    e) Ship it!\n",
    "\n",
    "\n",
    "\n",
    "\n",
    "\n"
   ]
  },
  {
   "cell_type": "raw",
   "id": "b1f78873-6480-42fa-a965-6ebe10219df4",
   "metadata": {
    "vscode": {
     "languageId": "raw"
    }
   },
   "source": [
    "Iteration 2:\n",
    "\n",
    "The team rebuilds the model with a more complex and deeper network, giving it more power to learn the features \n",
    "of a stop sign and its location. They use the same short training schedule as before and generate a new loss curve\n",
    "shown below:"
   ]
  },
  {
   "cell_type": "markdown",
   "id": "1cdd0876-81ed-42de-9e63-b1ba22333009",
   "metadata": {},
   "source": [
    "![alt text](underfitting2.png \"Title\")"
   ]
  },
  {
   "cell_type": "raw",
   "id": "8c4a67b3-b2ea-4568-939e-85570489218a",
   "metadata": {
    "vscode": {
     "languageId": "raw"
    }
   },
   "source": [
    "How accurate is the model trained above? \n",
    "\n",
    "Is it overfit, underfit, or just right?\n",
    "\n",
    "Question for Students: The more complex model is still underperforming, but the loss curve shows a clear downward \n",
    "trend. What is the best action to take now?\n",
    "    a) Decrease the model's complexity.\n",
    "    b) Add more data to the training set.\n",
    "    c) Train the model for more epochs.\n",
    "    d) Make the bounding box requirements less strict.\n",
    "    e) Ship it!"
   ]
  },
  {
   "cell_type": "raw",
   "id": "8d1010cb-8aa5-4fad-a1be-b54853800ad9",
   "metadata": {
    "vscode": {
     "languageId": "raw"
    }
   },
   "source": [
    "Iteration 3:\n",
    "\n",
    "Taking the advice, the team runs the training process for many more epochs. They let the complex model train \n",
    "overnight, confident it will master the task. In the morning, they check the new loss curve seen below:"
   ]
  },
  {
   "cell_type": "markdown",
   "id": "bf00dc8f-11a5-496c-9a9c-98ed61652874",
   "metadata": {},
   "source": [
    "![alt text](overfitting.png \"Title\")"
   ]
  },
  {
   "cell_type": "raw",
   "id": "a25c4e0f-d611-4f58-be77-026aa3eaed7d",
   "metadata": {
    "vscode": {
     "languageId": "raw"
    }
   },
   "source": [
    "How accurate is the model trained above? \n",
    "\n",
    "Is it overfit, underfit, or just right?\n",
    "\n",
    "Question for Students: The model now performs perfectly on the training data but fails on new data. \n",
    "How should you fix this problem?\n",
    "    a) Increase the model's complexity even more.\n",
    "    b) Introduce regularization (like dropout) and use early stopping. (Correct Answer)\n",
    "    c) Train for even longer.\n",
    "    d) Use only the training data to check performance.\n",
    "    e) Ship it!"
   ]
  },
  {
   "cell_type": "raw",
   "id": "54492585-13e5-41d8-bb9e-a2c943721eb2",
   "metadata": {
    "vscode": {
     "languageId": "raw"
    }
   },
   "source": [
    "Iteration 4:\n",
    "\n",
    "The team makes one final adjustment. They keep the complex model but introduce dropout and early stopping. They run the training process one last time.\n",
    "Below is the final loss curve:"
   ]
  },
  {
   "cell_type": "markdown",
   "id": "ff67aa90-d442-42ee-979e-35acf051e525",
   "metadata": {},
   "source": [
    "![alt text](correctfit.png \"Title\")"
   ]
  },
  {
   "cell_type": "raw",
   "id": "0c7ac8ef-2bc9-4e43-b9ed-2ec54112268c",
   "metadata": {
    "vscode": {
     "languageId": "raw"
    }
   },
   "source": [
    "How accurate is the model trained above? \n",
    "\n",
    "Is it overfit, underfit, or just right?\n",
    "\n",
    "    a) The model is still underfit; add more layers\n",
    "    b) The model is still overfit; add more regularization.\n",
    "    c) The results are inconclusive; restart the whole process.\n",
    "    d) Ship it!"
   ]
  }
 ],
 "metadata": {
  "kernelspec": {
   "display_name": "det-env",
   "language": "python",
   "name": "det-env"
  },
  "language_info": {
   "codemirror_mode": {
    "name": "ipython",
    "version": 3
   },
   "file_extension": ".py",
   "mimetype": "text/x-python",
   "name": "python",
   "nbconvert_exporter": "python",
   "pygments_lexer": "ipython3",
   "version": "3.11.3"
  }
 },
 "nbformat": 4,
 "nbformat_minor": 5
}
