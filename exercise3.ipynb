{
 "cells": [
  {
   "cell_type": "markdown",
   "id": "4c1b6a11-edc5-477b-82d3-a685aad42672",
   "metadata": {
    "editable": true,
    "slideshow": {
     "slide_type": ""
    },
    "tags": []
   },
   "source": [
    "### <h1>Fundamentals of AI</h1>\n",
    "<h2>Exercise #3 - Assessing Model Results</h2>"
   ]
  },
  {
   "cell_type": "raw",
   "id": "98948a0e-7b4d-4d98-b650-ebabbd0a5bd5",
   "metadata": {},
   "source": [
    "Iteration 1:\n",
    "\n",
    "Your AI team is creating an object detection model that will be used to detect stop signs for a driverless car system. They want your business opinion on their results and what risks/consequences there are in deploying each model they created. Answer the questions asked for each graph below."
   ]
  },
  {
   "cell_type": "markdown",
   "id": "1303f87a-510d-46d0-a287-7279a1b3565b",
   "metadata": {},
   "source": [
    "![alt text](cbb214f8.png \"Title\")"
   ]
  },
  {
   "cell_type": "raw",
   "id": "0393d433-d5f1-4226-ba5e-b5b3f3816b07",
   "metadata": {},
   "source": [
    "How accurate is the model trained above? \n",
    "\n",
    "Is it overfit, underfit or just right?\n",
    "\n",
    "What are the business risks associated with deploying this model?\n",
    "\n",
    "What would you recommend as the next step?\n",
    "    a. Train for a longer period of time (i.e. for more epochs than shown)\n",
    "    b. Retrain with adjusted model hyperparameters to see if training results will improve\n",
    "    c. Try a different AI model\n",
    "    d. Ship it!\n",
    "\n",
    "And why?\n",
    "\n",
    "\n",
    "\n",
    "\n",
    "\n",
    "\n",
    "\n",
    "\n"
   ]
  },
  {
   "cell_type": "raw",
   "id": "b1f78873-6480-42fa-a965-6ebe10219df4",
   "metadata": {},
   "source": [
    "Iteration 2:\n",
    "\n",
    "After attempting to adjust model hyperparameters and parameters without seeing significant improvements, the team researched \n",
    "and decided to try a different AI model that they hoped would give better results. After using a fairly complex and intensive model that took a long time to train during Iteration 1, the team decided to reduce the number of input variables and use a simpler model that they could iterate on quicker. The hope was that between reducing the number of variables and using a faster, simpler model, that results could be views and the model parameters tuned quicker to zero in on a model that works well."
   ]
  },
  {
   "cell_type": "markdown",
   "id": "1cdd0876-81ed-42de-9e63-b1ba22333009",
   "metadata": {},
   "source": [
    "![alt text](underfitting.jpg \"Title\")"
   ]
  },
  {
   "cell_type": "raw",
   "id": "8c4a67b3-b2ea-4568-939e-85570489218a",
   "metadata": {},
   "source": [
    "How accurate is the model trained above? \n",
    "\n",
    "Is it overfit, underfit, or just right?\n",
    "\n",
    "What are the business risks associated with deploying this model?\n",
    "\n",
    "What would you recommend as the next step?\n",
    "    a. Train for a longer period of time (i.e. for more epochs than shown)\n",
    "    b. Retrain with adjusted model hyperparameters to see if training results will improve\n",
    "    c. Try a different AI model\n",
    "    d. Ship it!\n",
    "\n",
    "And why?\n"
   ]
  },
  {
   "cell_type": "raw",
   "id": "8d1010cb-8aa5-4fad-a1be-b54853800ad9",
   "metadata": {},
   "source": [
    "Iteration 3:\n",
    "\n",
    "After a significant amount of research to identify a model that is both fast enough to iterate on and accurate enough for image classification, the team has decided to leverage an off-the-shelf GPT library and fine-tune the results to specifically identify not only stop signs but other roadsigns as well. The team has decided that other signs provide information that is useful for other driving functions and a more integrated image classification approach is going to be best."
   ]
  },
  {
   "cell_type": "markdown",
   "id": "bf00dc8f-11a5-496c-9a9c-98ed61652874",
   "metadata": {},
   "source": [
    "![alt text](overfitting.jpg \"Title\")"
   ]
  },
  {
   "cell_type": "raw",
   "id": "a25c4e0f-d611-4f58-be77-026aa3eaed7d",
   "metadata": {},
   "source": [
    "How accurate is the model trained above? \n",
    "\n",
    "Is it overfit, underfit, or just right?\n",
    "\n",
    "What are the business risks associated with deploying this model?\n",
    "\n",
    "What would you recommend as the next step?\n",
    "    a. Train for a longer period of time (i.e. for more epochs than shown)\n",
    "    b. Retrain with adjusted model hyperparameters to see if training results will improve\n",
    "    c. Try a different AI model\n",
    "    d. Ship it!\n",
    "\n",
    "And why?"
   ]
  },
  {
   "cell_type": "raw",
   "id": "54492585-13e5-41d8-bb9e-a2c943721eb2",
   "metadata": {},
   "source": [
    "Iteration 4:\n",
    "\n",
    "Since the approach to identifying stopsigns has been expanded to include other signs as well, the team decides to evaluate whether additional input variables might make a difference. Now that we have different colored signs, we add a color variable to the inputs to see if that will make a difference with this existing model that is close to working properly. It is noted that the only traffic signs in the US (other countries will need to be address differently) that are primarily red are ones that mean STOP (stop sign, do not enter, wrong way, etc.) or you might need to STOP (yield, upcoming light, etc.) the hope is that adding this variable will work."
   ]
  },
  {
   "cell_type": "markdown",
   "id": "ff67aa90-d442-42ee-979e-35acf051e525",
   "metadata": {},
   "source": [
    "![alt text](correctfit.jpg \"Title\")"
   ]
  },
  {
   "cell_type": "raw",
   "id": "0c7ac8ef-2bc9-4e43-b9ed-2ec54112268c",
   "metadata": {},
   "source": [
    "How accurate is the model trained above? \n",
    "\n",
    "Is it overfit, underfit, or just right?\n",
    "\n",
    "What are the business risks associated with deploying this model?\n",
    "\n",
    "What would you recommend as the next step?\n",
    "    a. Train for a longer period of time (i.e. for more epochs than shown)\n",
    "    b. Retrain with adjusted model hyperparameters to see if training results will improve\n",
    "    c. Try a different AI model\n",
    "    d. Ship it!\n",
    "\n",
    "And why?"
   ]
  },
  {
   "cell_type": "raw",
   "id": "21380191-a942-4272-a859-354b7c750942",
   "metadata": {},
   "source": [
    "Success! Ship it!"
   ]
  }
 ],
 "metadata": {
  "kernelspec": {
   "display_name": "training-env",
   "language": "python",
   "name": "training-env"
  },
  "language_info": {
   "codemirror_mode": {
    "name": "ipython",
    "version": 3
   },
   "file_extension": ".py",
   "mimetype": "text/x-python",
   "name": "python",
   "nbconvert_exporter": "python",
   "pygments_lexer": "ipython3",
   "version": "3.12.3"
  }
 },
 "nbformat": 4,
 "nbformat_minor": 5
}
