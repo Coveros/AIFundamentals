{
 "cells": [
  {
   "cell_type": "markdown",
   "id": "cec592af-c3e5-4071-b5c3-ca3eb8fc901c",
   "metadata": {},
   "source": [
    "<h1>Fundamentals of AI</h1>\n",
    "<h2>Exercise #4 - Choose the Best Type of Learning</h2>\n",
    "\n",
    "<body>\n",
    "For each scenario below, decide which type of learning is best\n",
    "<li>Classification</li>\n",
    "<li>Regression</li>    \n",
    "<li>Object Detection</li>\n",
    "<li>Clustering</li>\n",
    "<li>Anomaly Detection</li>\n",
    "<li>Transfer Learning</li>\n",
    "\n",
    "</body>"
   ]
  },
  {
   "cell_type": "markdown",
   "id": "da366f8c-0bb3-499c-914f-a3d98d9cea59",
   "metadata": {},
   "source": [
    "<h3>Automative Use Case</h3>\n",
    "You are an engineer tasked with teaching a self-driving car to navigate the chaotic symphony of city streets. Every frame from its cameras is a data point, teeming with features like pedestrians, vehicles, traffic lights, and lane markings. Your ultimate goal? Train the car to \"see\" and understand its surroundings, making split-second decisions to keep everyone safe."
   ]
  },
  {
   "cell_type": "raw",
   "id": "67291628-f257-45d1-a281-a65e61574558",
   "metadata": {},
   "source": [
    "The Best Type of Learning To Apply Is:\n"
   ]
  },
  {
   "cell_type": "markdown",
   "id": "8aca536d-00bb-4bf5-862b-08a6213da08c",
   "metadata": {},
   "source": [
    "<h3>Healthcare Use Case</h3>You are a doctor analyzing chest X-rays. Each X-ray is a data point with features like densities and textures, and your goal is to determine whether each patient X-ray has pneumonia or not."
   ]
  },
  {
   "cell_type": "raw",
   "id": "1866389e-53e4-4e03-affa-17e14d7d52c8",
   "metadata": {},
   "source": [
    "The Best Type of Learning to Apply Is:\n"
   ]
  },
  {
   "cell_type": "markdown",
   "id": "0c0fc680-5185-4cd4-9259-a4de36066867",
   "metadata": {},
   "source": [
    "<h3>Fraud Detection Use Case</h3>\n",
    "You are a fraud investigator at a major bank, tasked with sifting through millions of financial transactions daily. Each transaction is a data point, teeming with features like amount, location, time, and account holder. Your mission? Unmask the needle in the haystack – the fraudulent transactions hidden amongst a sea of legitimate ones."
   ]
  },
  {
   "cell_type": "raw",
   "id": "052a65a7-394f-4fd8-8182-22e4a5316eea",
   "metadata": {},
   "source": [
    "The Best Type of Learning to Apply Is:\n"
   ]
  },
  {
   "cell_type": "markdown",
   "id": "df29fa98-72b1-4a4b-9ce7-25a3ee8df632",
   "metadata": {},
   "source": [
    "<h3>Farming Use Case</h3>\n",
    "You are a farmer trying to predict your crop yield for the coming season. Each harvest is a data point with features like rainfall, temperature, soil composition, and fertilizer usage. Your goal is to estimate the yield you can expect, helping you plan investments, optimize resources, and ensure a successful harvest."
   ]
  },
  {
   "cell_type": "raw",
   "id": "8554551b-13ed-42da-9396-4f0af6f4a341",
   "metadata": {},
   "source": [
    "The Best Type of Learning to Apply Is:\n"
   ]
  },
  {
   "cell_type": "markdown",
   "id": "b6040227-2527-4f94-933c-084759a6c0d4",
   "metadata": {},
   "source": [
    "<h3>Photography Use Case</h3>\n",
    "You are a budding photographer, eager to capture stunning wildlife images but lacking years of experience. Your camera is a data point, your photos are data points, and your goal is to train your camera (and yourself) to automatically recognize and capture breathtaking animal shots. This is where machine learning comes in, acting as your digital wildlife guide.\n",
    "<br><br>\n",
    "Picture downloading a pre-trained model, already brimming with knowledge about thousands of animal species and their visual characteristics. This model, honed on massive datasets of labeled wildlife photos, recognizes the intricate details of stripes on zebras, the graceful curves of leaping dolphins, and the fiery plumage of exotic birds.\n"
   ]
  },
  {
   "cell_type": "raw",
   "id": "cbd288f2-97d8-4922-a782-32d68d37e480",
   "metadata": {},
   "source": [
    "The Best Type of Learning to Apply Is:\n"
   ]
  },
  {
   "cell_type": "markdown",
   "id": "de0ff267-7549-44be-81d7-02a30fd97448",
   "metadata": {},
   "source": [
    "<h3>Astrophysics Use Case</h3>\n",
    "You are an astrophysicist sifting through mountains of data from space telescopes. Each image is a data point, teeming with features like brightness, color, and shape of countless celestial objects. Some of these objects are known while many are not. Your mission? Unravel the celestial tapestry, understanding how galaxies, stars, and other objects are distributed and organized in the vast cosmos."
   ]
  },
  {
   "cell_type": "raw",
   "id": "292d5425-9d12-4edb-b6c9-5365a3ac569d",
   "metadata": {},
   "source": [
    "The Best Type of Learning to Apply Is:\n"
   ]
  }
 ],
 "metadata": {
  "kernelspec": {
   "display_name": "training-env",
   "language": "python",
   "name": "training-env"
  },
  "language_info": {
   "codemirror_mode": {
    "name": "ipython",
    "version": 3
   },
   "file_extension": ".py",
   "mimetype": "text/x-python",
   "name": "python",
   "nbconvert_exporter": "python",
   "pygments_lexer": "ipython3",
   "version": "3.12.3"
  }
 },
 "nbformat": 4,
 "nbformat_minor": 5
}
