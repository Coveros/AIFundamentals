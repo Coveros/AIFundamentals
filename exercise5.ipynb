{
 "cells": [
  {
   "cell_type": "markdown",
   "id": "1f52d1ee-3b51-4861-9dd4-82e4e0dab44a",
   "metadata": {
    "editable": true,
    "slideshow": {
     "slide_type": ""
    },
    "tags": []
   },
   "source": [
    "<h1>Fundamentals of AI</h1>\n",
    "<h2>Exercise #5 - Choose Which ML Step Each Activity is Part of</h2>\n",
    "For each scenario below, decide which step in the ML process it belongs to\n",
    "<body>\n",
    "<ol>\n",
    "    <li>Data Extraction - Select and integrate data from relevant data sources</li>\n",
    "    <li>Data Analysis - Perform exploratory data analysis to understand data and determine its usefulness</li>\n",
    "    <li>Feature Engineering - Transform data into feature / data sets for training and testing</li>\n",
    "    <li>Model Training - Train, test, and tune various model to determine the best approach to deploy</li>\n",
    "    <li>Model Evaluation - Compare model with independent test set to determine accuracy</li>\n",
    "    <li>Model Validation - Validate model selected meets business objectives and criteria</li>\n",
    "    <li>Model Serving / Deployment - Integrate, test, and deploy models using CI/CD capabilities</li>\n",
    "    <li>Model Monitoring - Use and monitor model in production making sure to maintain model accuracy</li>\n",
    "</ol>\n",
    "</body>"
   ]
  },
  {
   "cell_type": "markdown",
   "id": "d70ef552-b78e-43e8-a754-4888e7d8f559",
   "metadata": {},
   "source": [
    "<h1> Manufacturing Example</h1>A predictive maintenance model for industrial equipment is used in production to monitor sensors and detect when its time to perform maintenance on assembly line equipment. "
   ]
  },
  {
   "cell_type": "raw",
   "id": "bd07920f-0cfc-42f0-b19d-ae47f615e1e7",
   "metadata": {},
   "source": [
    "In Which ML Step Does This Fit?\n"
   ]
  },
  {
   "cell_type": "markdown",
   "id": "32cac470-4139-4464-9659-6594f85fd339",
   "metadata": {},
   "source": [
    "<h1>Advertising Example</h1>A model predicting ad clicks is evaluated on a separate dataset from the training data to ensure it performs well on unseen users and environments"
   ]
  },
  {
   "cell_type": "raw",
   "id": "87ac647b-4867-459a-be60-261c3b8cfd75",
   "metadata": {},
   "source": [
    "In Which ML Step Does This Fit?\n"
   ]
  },
  {
   "cell_type": "markdown",
   "id": "5c589299-a7d9-4694-870b-8828f6d12fae",
   "metadata": {},
   "source": [
    "<h1>Cybersecurity Example</h1>A cybersecurity company generates new features from network traffic data like packet size and origin to detect potential malware or botnet activity."
   ]
  },
  {
   "cell_type": "raw",
   "id": "5ba48a16-ce7d-4cd9-8941-0d162810090e",
   "metadata": {},
   "source": [
    "In Which ML Step Does This Fit?\n"
   ]
  },
  {
   "cell_type": "markdown",
   "id": "3a61462e-c2e5-4d31-b334-5ae7afedf167",
   "metadata": {},
   "source": [
    "<h1>Marketing Example</h1>A marketing team wants to build a model to predict customer churn. They extract data from various sources, like customer relationship management (CRM) systems, website clickstream data, and social media interactions."
   ]
  },
  {
   "cell_type": "raw",
   "id": "d41f1177-c1da-4b25-9930-8849b6e7e3c5",
   "metadata": {},
   "source": [
    "In Which ML Step Does This Fit?\n"
   ]
  },
  {
   "cell_type": "markdown",
   "id": "80600444-2ff6-42d7-9a1e-a8b6c2c03dd7",
   "metadata": {},
   "source": [
    "<h1>Medical Example</h1>A medical AI system is trained on chest X-ray images labeled with specific diseases to accurately diagnose lung abnormalities in new patients."
   ]
  },
  {
   "cell_type": "raw",
   "id": "45db6823-772f-4510-a032-717e2d4abdfb",
   "metadata": {},
   "source": [
    "In Which ML Step Does This Fit?\n"
   ]
  },
  {
   "cell_type": "markdown",
   "id": "183e47db-1fd3-4e23-ae08-80a052885e2c",
   "metadata": {},
   "source": [
    "<h1>Banking Example</h1>A bank tests and deploys a loan approval model that analyzes loan applications and predicts the risk of default, aiding in responsible lending decisions."
   ]
  },
  {
   "cell_type": "raw",
   "id": "eaf4ea18-5349-4b63-83c1-4506ddb98785",
   "metadata": {},
   "source": [
    "In Which ML Step Does This Fit?\n"
   ]
  },
  {
   "cell_type": "markdown",
   "id": "0b95dbf0-07ac-4728-b6f3-ecca6c0fb26d",
   "metadata": {},
   "source": [
    "<h1>Healthcare Example</h1>A healthcare diagnosis system that uses AI to diagnose health problems from patient symptoms is compared to an existing system to determine if the new AI model is more accurate."
   ]
  },
  {
   "cell_type": "raw",
   "id": "f7c2795e-f31e-46ae-b535-e685ebc6a60c",
   "metadata": {},
   "source": [
    "In Which ML Step Does This Fit?\n"
   ]
  },
  {
   "cell_type": "markdown",
   "id": "b8cec8e2-85d5-4c2d-a70d-844ad41d6a2c",
   "metadata": {},
   "source": [
    "<h1>Financial Services</h1>Data from a stock feed is analyzed to determine whether it accurately captures key stock information that can be used to predict stock prices using a machine learning model."
   ]
  },
  {
   "cell_type": "raw",
   "id": "4abe35bc-4d5f-4480-9369-d92afa6745e7",
   "metadata": {},
   "source": [
    "In Which ML Step Does This Fit?\n"
   ]
  }
 ],
 "metadata": {
  "kernelspec": {
   "display_name": "training-env",
   "language": "python",
   "name": "training-env"
  },
  "language_info": {
   "codemirror_mode": {
    "name": "ipython",
    "version": 3
   },
   "file_extension": ".py",
   "mimetype": "text/x-python",
   "name": "python",
   "nbconvert_exporter": "python",
   "pygments_lexer": "ipython3",
   "version": "3.12.3"
  }
 },
 "nbformat": 4,
 "nbformat_minor": 5
}
